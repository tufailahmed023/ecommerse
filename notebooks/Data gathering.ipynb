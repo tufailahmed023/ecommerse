{
 "cells": [
  {
   "cell_type": "code",
   "execution_count": 25,
   "id": "5561908c",
   "metadata": {},
   "outputs": [],
   "source": [
    "from bs4 import BeautifulSoup\n",
    "import pandas as pd\n",
    "import requests\n",
    "import time\n",
    "import os"
   ]
  },
  {
   "cell_type": "code",
   "execution_count": 13,
   "id": "75ccef02",
   "metadata": {},
   "outputs": [],
   "source": [
    "class_to_fetch = ['phone','laptop']"
   ]
  },
  {
   "cell_type": "code",
   "execution_count": 14,
   "id": "79afb4ea",
   "metadata": {},
   "outputs": [],
   "source": [
    "product_dir = {\"class\":[],\n",
    "                'name':[],\n",
    "                 'img_url':[]}"
   ]
  },
  {
   "cell_type": "code",
   "execution_count": 15,
   "id": "cff7f6ad",
   "metadata": {},
   "outputs": [],
   "source": [
    "for class_name in class_to_fetch:\n",
    "    for page in range(1,4):\n",
    "        url = f'https://www.flipkart.com/search?q={class_name}&otracker=search&otracker11=search&marketplace=FLIPKART&as-show=on&as=off&page={page}'\n",
    "        webpage = requests.get(url).text\n",
    "        soup = BeautifulSoup(webpage,'lxml')\n",
    "        all_div = soup.find_all('div',class_ = '_2kHMtA')\n",
    "        for i in range(len(all_div)):\n",
    "            product_dir['class'].append(class_name)\n",
    "            product_dir['name'].append(all_div[i].find('div',class_='_4rR01T').text)\n",
    "            product_dir['img_url'].append(all_div[i].find('img',class_ = '_396cs4')['src'])\n",
    "    #time.sleep(2)\n",
    "    "
   ]
  },
  {
   "cell_type": "code",
   "execution_count": 16,
   "id": "cddc022e",
   "metadata": {},
   "outputs": [],
   "source": [
    "df = pd.DataFrame(product_dir)"
   ]
  },
  {
   "cell_type": "code",
   "execution_count": 17,
   "id": "8a2a536a",
   "metadata": {},
   "outputs": [
    {
     "data": {
      "text/plain": [
       "phone     72\n",
       "laptop    72\n",
       "Name: class, dtype: int64"
      ]
     },
     "execution_count": 17,
     "metadata": {},
     "output_type": "execute_result"
    }
   ],
   "source": [
    "df['class'].value_counts()"
   ]
  },
  {
   "cell_type": "code",
   "execution_count": 18,
   "id": "fbc2b101",
   "metadata": {},
   "outputs": [],
   "source": [
    "class_to_fetch = ['headphone']"
   ]
  },
  {
   "cell_type": "code",
   "execution_count": 19,
   "id": "fdf98cd1",
   "metadata": {},
   "outputs": [],
   "source": [
    "product_dir = {\"class\":[],\n",
    "                'name':[],\n",
    "                 'img_url':[]}"
   ]
  },
  {
   "cell_type": "code",
   "execution_count": 20,
   "id": "f20963b0",
   "metadata": {},
   "outputs": [],
   "source": [
    "for class_name in class_to_fetch:\n",
    "    for page in range(1,3):\n",
    "        url = f'https://www.flipkart.com/search?q={class_name}&otracker=search&otracker11=search&marketplace=FLIPKART&as-show=on&as=off&page={page}'\n",
    "        webpage = requests.get(url).text\n",
    "        soup = BeautifulSoup(webpage,'lxml')\n",
    "        all_div = soup.find_all('div',class_ = '_4ddWXP')\n",
    "        for i in range(len(all_div)):\n",
    "            product_dir['class'].append(class_name)\n",
    "            product_dir['name'].append(all_div[i].find('a',class_='s1Q9rs').text)\n",
    "            product_dir['img_url'].append(all_div[i].find('img',class_ = '_396cs4')['src'])\n",
    "    #time.sleep(2)"
   ]
  },
  {
   "cell_type": "code",
   "execution_count": 21,
   "id": "6e576848",
   "metadata": {},
   "outputs": [],
   "source": [
    "df = pd.concat([df,pd.DataFrame(product_dir)])"
   ]
  },
  {
   "cell_type": "code",
   "execution_count": 22,
   "id": "d8ce9eea",
   "metadata": {
    "scrolled": true
   },
   "outputs": [
    {
     "data": {
      "text/plain": [
       "headphone    80\n",
       "phone        72\n",
       "laptop       72\n",
       "Name: class, dtype: int64"
      ]
     },
     "execution_count": 22,
     "metadata": {},
     "output_type": "execute_result"
    }
   ],
   "source": [
    "df['class'].value_counts()"
   ]
  },
  {
   "cell_type": "code",
   "execution_count": 36,
   "id": "c40cc802",
   "metadata": {},
   "outputs": [],
   "source": [
    "df = df.reset_index()"
   ]
  },
  {
   "cell_type": "code",
   "execution_count": 37,
   "id": "7f1e773e",
   "metadata": {},
   "outputs": [],
   "source": [
    "df = df.drop('index',axis=1)"
   ]
  },
  {
   "cell_type": "code",
   "execution_count": 38,
   "id": "75fb35f0",
   "metadata": {},
   "outputs": [
    {
     "data": {
      "text/html": [
       "<div>\n",
       "<style scoped>\n",
       "    .dataframe tbody tr th:only-of-type {\n",
       "        vertical-align: middle;\n",
       "    }\n",
       "\n",
       "    .dataframe tbody tr th {\n",
       "        vertical-align: top;\n",
       "    }\n",
       "\n",
       "    .dataframe thead th {\n",
       "        text-align: right;\n",
       "    }\n",
       "</style>\n",
       "<table border=\"1\" class=\"dataframe\">\n",
       "  <thead>\n",
       "    <tr style=\"text-align: right;\">\n",
       "      <th></th>\n",
       "      <th>class</th>\n",
       "      <th>name</th>\n",
       "      <th>img_url</th>\n",
       "    </tr>\n",
       "  </thead>\n",
       "  <tbody>\n",
       "    <tr>\n",
       "      <th>0</th>\n",
       "      <td>phone</td>\n",
       "      <td>POCO C51 (Royal Blue, 64 GB)</td>\n",
       "      <td>https://rukminim1.flixcart.com/image/312/312/x...</td>\n",
       "    </tr>\n",
       "    <tr>\n",
       "      <th>1</th>\n",
       "      <td>phone</td>\n",
       "      <td>REDMI 10 (Caribbean Green, 64 GB)</td>\n",
       "      <td>https://rukminim1.flixcart.com/image/312/312/x...</td>\n",
       "    </tr>\n",
       "    <tr>\n",
       "      <th>2</th>\n",
       "      <td>phone</td>\n",
       "      <td>vivo T2x 5G (Glimmer Black, 128 GB)</td>\n",
       "      <td>https://rukminim1.flixcart.com/image/312/312/x...</td>\n",
       "    </tr>\n",
       "    <tr>\n",
       "      <th>3</th>\n",
       "      <td>phone</td>\n",
       "      <td>Cellecor R3+</td>\n",
       "      <td>https://rukminim1.flixcart.com/image/312/312/k...</td>\n",
       "    </tr>\n",
       "    <tr>\n",
       "      <th>4</th>\n",
       "      <td>phone</td>\n",
       "      <td>realme C55 (Sunshower, 64 GB)</td>\n",
       "      <td>https://rukminim1.flixcart.com/image/312/312/x...</td>\n",
       "    </tr>\n",
       "  </tbody>\n",
       "</table>\n",
       "</div>"
      ],
      "text/plain": [
       "   class                                 name  \\\n",
       "0  phone         POCO C51 (Royal Blue, 64 GB)   \n",
       "1  phone    REDMI 10 (Caribbean Green, 64 GB)   \n",
       "2  phone  vivo T2x 5G (Glimmer Black, 128 GB)   \n",
       "3  phone                         Cellecor R3+   \n",
       "4  phone        realme C55 (Sunshower, 64 GB)   \n",
       "\n",
       "                                             img_url  \n",
       "0  https://rukminim1.flixcart.com/image/312/312/x...  \n",
       "1  https://rukminim1.flixcart.com/image/312/312/x...  \n",
       "2  https://rukminim1.flixcart.com/image/312/312/x...  \n",
       "3  https://rukminim1.flixcart.com/image/312/312/k...  \n",
       "4  https://rukminim1.flixcart.com/image/312/312/x...  "
      ]
     },
     "execution_count": 38,
     "metadata": {},
     "output_type": "execute_result"
    }
   ],
   "source": [
    "df.head(5)"
   ]
  },
  {
   "cell_type": "code",
   "execution_count": 24,
   "id": "190d2e6d",
   "metadata": {},
   "outputs": [],
   "source": [
    "##image download"
   ]
  },
  {
   "cell_type": "code",
   "execution_count": 67,
   "id": "1f173c0b",
   "metadata": {},
   "outputs": [],
   "source": [
    "class_name = list(df['class'].unique())"
   ]
  },
  {
   "cell_type": "code",
   "execution_count": 69,
   "id": "c741d0c2",
   "metadata": {},
   "outputs": [],
   "source": [
    "train_dir = os.path.join(os.curdir,'train')\n",
    "test_dir = os.path.join(os.curdir,'test')"
   ]
  },
  {
   "cell_type": "code",
   "execution_count": 77,
   "id": "eebf5691",
   "metadata": {},
   "outputs": [],
   "source": [
    "for cls_name in class_name:\n",
    "    temp_ser = list(df[df['class']==cls_name]['img_url'])\n",
    "    #making train and test folder \n",
    "    if not os.path.exists(train_dir):\n",
    "        os.mkdir(train_dir)\n",
    "    if not os.path.exists(test_dir):\n",
    "        os.mkdir(test_dir)\n",
    "        \n",
    "    #making class folder \n",
    "    class_path_train = os.path.join(train_dir,cls_name)\n",
    "    class_path_test = os.path.join(test_dir,cls_name)\n",
    "    \n",
    "    if not os.path.exists(class_path_train):\n",
    "        os.mkdir(class_path_train)\n",
    "    if not os.path.exists(class_path_test):\n",
    "        os.mkdir(class_path_test)\n",
    "    #test\n",
    "    for i in range(len(temp_ser[:15])):\n",
    "        responce = requests.get(temp_ser[i])\n",
    "        if  responce.status_code == 200:\n",
    "            file_name = f'{i}.jpg'\n",
    "            with open(os.path.join(class_path_test,file_name),'ab') as file:\n",
    "                file.write(responce.content)\n",
    "    #train\n",
    "    for i in range(len(temp_ser[15:])):\n",
    "        responce = requests.get(temp_ser[i])\n",
    "        if  responce.status_code == 200:\n",
    "            file_name = f'{i}.jpg'\n",
    "            with open(os.path.join(class_path_train,file_name),'ab') as file:\n",
    "                file.write(responce.content)\n",
    "        \n",
    "        \n",
    "    "
   ]
  },
  {
   "cell_type": "code",
   "execution_count": null,
   "id": "e219f87e",
   "metadata": {},
   "outputs": [],
   "source": []
  }
 ],
 "metadata": {
  "kernelspec": {
   "display_name": "Python 3 (ipykernel)",
   "language": "python",
   "name": "python3"
  },
  "language_info": {
   "codemirror_mode": {
    "name": "ipython",
    "version": 3
   },
   "file_extension": ".py",
   "mimetype": "text/x-python",
   "name": "python",
   "nbconvert_exporter": "python",
   "pygments_lexer": "ipython3",
   "version": "3.9.7"
  }
 },
 "nbformat": 4,
 "nbformat_minor": 5
}
